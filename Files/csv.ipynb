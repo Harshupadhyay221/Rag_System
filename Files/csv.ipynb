{
 "cells": [
  {
   "cell_type": "code",
   "execution_count": 1,
   "metadata": {},
   "outputs": [],
   "source": [
    "! pip -q install langchain openai"
   ]
  },
  {
   "cell_type": "code",
   "execution_count": 2,
   "metadata": {},
   "outputs": [
    {
     "name": "stdout",
     "output_type": "stream",
     "text": [
      "Name: langchain\n",
      "Version: 0.3.23\n",
      "Summary: Building applications with LLMs through composability\n",
      "Home-page: \n",
      "Author: \n",
      "Author-email: \n",
      "License: MIT\n",
      "Location: /home/anudeep/miniconda3/envs/genai/lib/python3.11/site-packages\n",
      "Requires: langchain-core, langchain-text-splitters, langsmith, pydantic, PyYAML, requests, SQLAlchemy\n",
      "Required-by: langchain-community\n"
     ]
    }
   ],
   "source": [
    "! pip show langchain"
   ]
  },
  {
   "cell_type": "code",
   "execution_count": 3,
   "metadata": {},
   "outputs": [],
   "source": [
    "# load pdf file\n",
    "import pandas as pd\n",
    "\n",
    "df = pd.read_csv('/home/anudeep/Desktop/gen ai/document/mtsamples.csv')"
   ]
  },
  {
   "cell_type": "code",
   "execution_count": 4,
   "metadata": {},
   "outputs": [
    {
     "data": {
      "text/html": [
       "<div>\n",
       "<style scoped>\n",
       "    .dataframe tbody tr th:only-of-type {\n",
       "        vertical-align: middle;\n",
       "    }\n",
       "\n",
       "    .dataframe tbody tr th {\n",
       "        vertical-align: top;\n",
       "    }\n",
       "\n",
       "    .dataframe thead th {\n",
       "        text-align: right;\n",
       "    }\n",
       "</style>\n",
       "<table border=\"1\" class=\"dataframe\">\n",
       "  <thead>\n",
       "    <tr style=\"text-align: right;\">\n",
       "      <th></th>\n",
       "      <th>Unnamed: 0</th>\n",
       "      <th>description</th>\n",
       "      <th>medical_specialty</th>\n",
       "      <th>sample_name</th>\n",
       "      <th>transcription</th>\n",
       "      <th>keywords</th>\n",
       "    </tr>\n",
       "  </thead>\n",
       "  <tbody>\n",
       "    <tr>\n",
       "      <th>0</th>\n",
       "      <td>0</td>\n",
       "      <td>A 23-year-old white female presents with comp...</td>\n",
       "      <td>Allergy / Immunology</td>\n",
       "      <td>Allergic Rhinitis</td>\n",
       "      <td>SUBJECTIVE:,  This 23-year-old white female pr...</td>\n",
       "      <td>allergy / immunology, allergic rhinitis, aller...</td>\n",
       "    </tr>\n",
       "    <tr>\n",
       "      <th>1</th>\n",
       "      <td>1</td>\n",
       "      <td>Consult for laparoscopic gastric bypass.</td>\n",
       "      <td>Bariatrics</td>\n",
       "      <td>Laparoscopic Gastric Bypass Consult - 2</td>\n",
       "      <td>PAST MEDICAL HISTORY:, He has difficulty climb...</td>\n",
       "      <td>bariatrics, laparoscopic gastric bypass, weigh...</td>\n",
       "    </tr>\n",
       "    <tr>\n",
       "      <th>2</th>\n",
       "      <td>2</td>\n",
       "      <td>Consult for laparoscopic gastric bypass.</td>\n",
       "      <td>Bariatrics</td>\n",
       "      <td>Laparoscopic Gastric Bypass Consult - 1</td>\n",
       "      <td>HISTORY OF PRESENT ILLNESS: , I have seen ABC ...</td>\n",
       "      <td>bariatrics, laparoscopic gastric bypass, heart...</td>\n",
       "    </tr>\n",
       "    <tr>\n",
       "      <th>3</th>\n",
       "      <td>3</td>\n",
       "      <td>2-D M-Mode. Doppler.</td>\n",
       "      <td>Cardiovascular / Pulmonary</td>\n",
       "      <td>2-D Echocardiogram - 1</td>\n",
       "      <td>2-D M-MODE: , ,1.  Left atrial enlargement wit...</td>\n",
       "      <td>cardiovascular / pulmonary, 2-d m-mode, dopple...</td>\n",
       "    </tr>\n",
       "    <tr>\n",
       "      <th>4</th>\n",
       "      <td>4</td>\n",
       "      <td>2-D Echocardiogram</td>\n",
       "      <td>Cardiovascular / Pulmonary</td>\n",
       "      <td>2-D Echocardiogram - 2</td>\n",
       "      <td>1.  The left ventricular cavity size and wall ...</td>\n",
       "      <td>cardiovascular / pulmonary, 2-d, doppler, echo...</td>\n",
       "    </tr>\n",
       "    <tr>\n",
       "      <th>...</th>\n",
       "      <td>...</td>\n",
       "      <td>...</td>\n",
       "      <td>...</td>\n",
       "      <td>...</td>\n",
       "      <td>...</td>\n",
       "      <td>...</td>\n",
       "    </tr>\n",
       "    <tr>\n",
       "      <th>4994</th>\n",
       "      <td>4994</td>\n",
       "      <td>Patient having severe sinusitis about two to ...</td>\n",
       "      <td>Allergy / Immunology</td>\n",
       "      <td>Chronic Sinusitis</td>\n",
       "      <td>HISTORY:,  I had the pleasure of meeting and e...</td>\n",
       "      <td>NaN</td>\n",
       "    </tr>\n",
       "    <tr>\n",
       "      <th>4995</th>\n",
       "      <td>4995</td>\n",
       "      <td>This is a 14-month-old baby boy Caucasian who...</td>\n",
       "      <td>Allergy / Immunology</td>\n",
       "      <td>Kawasaki Disease - Discharge Summary</td>\n",
       "      <td>ADMITTING DIAGNOSIS: , Kawasaki disease.,DISCH...</td>\n",
       "      <td>allergy / immunology, mucous membranes, conjun...</td>\n",
       "    </tr>\n",
       "    <tr>\n",
       "      <th>4996</th>\n",
       "      <td>4996</td>\n",
       "      <td>A female for a complete physical and follow u...</td>\n",
       "      <td>Allergy / Immunology</td>\n",
       "      <td>Followup on Asthma</td>\n",
       "      <td>SUBJECTIVE: , This is a 42-year-old white fema...</td>\n",
       "      <td>NaN</td>\n",
       "    </tr>\n",
       "    <tr>\n",
       "      <th>4997</th>\n",
       "      <td>4997</td>\n",
       "      <td>Mother states he has been wheezing and coughing.</td>\n",
       "      <td>Allergy / Immunology</td>\n",
       "      <td>Asthma in a 5-year-old</td>\n",
       "      <td>CHIEF COMPLAINT: , This 5-year-old male presen...</td>\n",
       "      <td>NaN</td>\n",
       "    </tr>\n",
       "    <tr>\n",
       "      <th>4998</th>\n",
       "      <td>4998</td>\n",
       "      <td>Acute allergic reaction, etiology uncertain, ...</td>\n",
       "      <td>Allergy / Immunology</td>\n",
       "      <td>Allergy Evaluation Consult</td>\n",
       "      <td>HISTORY: , A 34-year-old male presents today s...</td>\n",
       "      <td>NaN</td>\n",
       "    </tr>\n",
       "  </tbody>\n",
       "</table>\n",
       "<p>4999 rows × 6 columns</p>\n",
       "</div>"
      ],
      "text/plain": [
       "      Unnamed: 0                                        description  \\\n",
       "0              0   A 23-year-old white female presents with comp...   \n",
       "1              1           Consult for laparoscopic gastric bypass.   \n",
       "2              2           Consult for laparoscopic gastric bypass.   \n",
       "3              3                             2-D M-Mode. Doppler.     \n",
       "4              4                                 2-D Echocardiogram   \n",
       "...          ...                                                ...   \n",
       "4994        4994   Patient having severe sinusitis about two to ...   \n",
       "4995        4995   This is a 14-month-old baby boy Caucasian who...   \n",
       "4996        4996   A female for a complete physical and follow u...   \n",
       "4997        4997   Mother states he has been wheezing and coughing.   \n",
       "4998        4998   Acute allergic reaction, etiology uncertain, ...   \n",
       "\n",
       "                medical_specialty                                sample_name  \\\n",
       "0            Allergy / Immunology                         Allergic Rhinitis    \n",
       "1                      Bariatrics   Laparoscopic Gastric Bypass Consult - 2    \n",
       "2                      Bariatrics   Laparoscopic Gastric Bypass Consult - 1    \n",
       "3      Cardiovascular / Pulmonary                    2-D Echocardiogram - 1    \n",
       "4      Cardiovascular / Pulmonary                    2-D Echocardiogram - 2    \n",
       "...                           ...                                        ...   \n",
       "4994         Allergy / Immunology                         Chronic Sinusitis    \n",
       "4995         Allergy / Immunology      Kawasaki Disease - Discharge Summary    \n",
       "4996         Allergy / Immunology                        Followup on Asthma    \n",
       "4997         Allergy / Immunology                    Asthma in a 5-year-old    \n",
       "4998         Allergy / Immunology                Allergy Evaluation Consult    \n",
       "\n",
       "                                          transcription  \\\n",
       "0     SUBJECTIVE:,  This 23-year-old white female pr...   \n",
       "1     PAST MEDICAL HISTORY:, He has difficulty climb...   \n",
       "2     HISTORY OF PRESENT ILLNESS: , I have seen ABC ...   \n",
       "3     2-D M-MODE: , ,1.  Left atrial enlargement wit...   \n",
       "4     1.  The left ventricular cavity size and wall ...   \n",
       "...                                                 ...   \n",
       "4994  HISTORY:,  I had the pleasure of meeting and e...   \n",
       "4995  ADMITTING DIAGNOSIS: , Kawasaki disease.,DISCH...   \n",
       "4996  SUBJECTIVE: , This is a 42-year-old white fema...   \n",
       "4997  CHIEF COMPLAINT: , This 5-year-old male presen...   \n",
       "4998  HISTORY: , A 34-year-old male presents today s...   \n",
       "\n",
       "                                               keywords  \n",
       "0     allergy / immunology, allergic rhinitis, aller...  \n",
       "1     bariatrics, laparoscopic gastric bypass, weigh...  \n",
       "2     bariatrics, laparoscopic gastric bypass, heart...  \n",
       "3     cardiovascular / pulmonary, 2-d m-mode, dopple...  \n",
       "4     cardiovascular / pulmonary, 2-d, doppler, echo...  \n",
       "...                                                 ...  \n",
       "4994                                                NaN  \n",
       "4995  allergy / immunology, mucous membranes, conjun...  \n",
       "4996                                                NaN  \n",
       "4997                                                NaN  \n",
       "4998                                                NaN  \n",
       "\n",
       "[4999 rows x 6 columns]"
      ]
     },
     "execution_count": 4,
     "metadata": {},
     "output_type": "execute_result"
    }
   ],
   "source": [
    "df"
   ]
  },
  {
   "cell_type": "code",
   "execution_count": 5,
   "metadata": {},
   "outputs": [
    {
     "name": "stdout",
     "output_type": "stream",
     "text": [
      "Requirement already satisfied: langchain_experimental in /home/anudeep/miniconda3/envs/genai/lib/python3.11/site-packages (0.3.4)\n",
      "Requirement already satisfied: langchain-community<0.4.0,>=0.3.0 in /home/anudeep/miniconda3/envs/genai/lib/python3.11/site-packages (from langchain_experimental) (0.3.21)\n",
      "Requirement already satisfied: langchain-core<0.4.0,>=0.3.28 in /home/anudeep/miniconda3/envs/genai/lib/python3.11/site-packages (from langchain_experimental) (0.3.51)\n",
      "Requirement already satisfied: langchain<1.0.0,>=0.3.23 in /home/anudeep/miniconda3/envs/genai/lib/python3.11/site-packages (from langchain-community<0.4.0,>=0.3.0->langchain_experimental) (0.3.23)\n",
      "Requirement already satisfied: SQLAlchemy<3,>=1.4 in /home/anudeep/miniconda3/envs/genai/lib/python3.11/site-packages (from langchain-community<0.4.0,>=0.3.0->langchain_experimental) (1.4.54)\n",
      "Requirement already satisfied: requests<3,>=2 in /home/anudeep/miniconda3/envs/genai/lib/python3.11/site-packages (from langchain-community<0.4.0,>=0.3.0->langchain_experimental) (2.32.3)\n",
      "Requirement already satisfied: PyYAML>=5.3 in /home/anudeep/miniconda3/envs/genai/lib/python3.11/site-packages (from langchain-community<0.4.0,>=0.3.0->langchain_experimental) (6.0.2)\n",
      "Requirement already satisfied: aiohttp<4.0.0,>=3.8.3 in /home/anudeep/miniconda3/envs/genai/lib/python3.11/site-packages (from langchain-community<0.4.0,>=0.3.0->langchain_experimental) (3.11.16)\n",
      "Requirement already satisfied: tenacity!=8.4.0,<10,>=8.1.0 in /home/anudeep/miniconda3/envs/genai/lib/python3.11/site-packages (from langchain-community<0.4.0,>=0.3.0->langchain_experimental) (9.1.2)\n",
      "Requirement already satisfied: dataclasses-json<0.7,>=0.5.7 in /home/anudeep/miniconda3/envs/genai/lib/python3.11/site-packages (from langchain-community<0.4.0,>=0.3.0->langchain_experimental) (0.6.7)\n",
      "Requirement already satisfied: pydantic-settings<3.0.0,>=2.4.0 in /home/anudeep/miniconda3/envs/genai/lib/python3.11/site-packages (from langchain-community<0.4.0,>=0.3.0->langchain_experimental) (2.8.1)\n",
      "Requirement already satisfied: langsmith<0.4,>=0.1.125 in /home/anudeep/miniconda3/envs/genai/lib/python3.11/site-packages (from langchain-community<0.4.0,>=0.3.0->langchain_experimental) (0.3.28)\n",
      "Requirement already satisfied: httpx-sse<1.0.0,>=0.4.0 in /home/anudeep/miniconda3/envs/genai/lib/python3.11/site-packages (from langchain-community<0.4.0,>=0.3.0->langchain_experimental) (0.4.0)\n",
      "Requirement already satisfied: numpy<3,>=1.26.2 in /home/anudeep/miniconda3/envs/genai/lib/python3.11/site-packages (from langchain-community<0.4.0,>=0.3.0->langchain_experimental) (1.26.4)\n",
      "Requirement already satisfied: jsonpatch<2.0,>=1.33 in /home/anudeep/miniconda3/envs/genai/lib/python3.11/site-packages (from langchain-core<0.4.0,>=0.3.28->langchain_experimental) (1.33)\n",
      "Requirement already satisfied: packaging<25,>=23.2 in /home/anudeep/miniconda3/envs/genai/lib/python3.11/site-packages (from langchain-core<0.4.0,>=0.3.28->langchain_experimental) (24.2)\n",
      "Requirement already satisfied: typing-extensions>=4.7 in /home/anudeep/miniconda3/envs/genai/lib/python3.11/site-packages (from langchain-core<0.4.0,>=0.3.28->langchain_experimental) (4.13.1)\n",
      "Requirement already satisfied: pydantic<3.0.0,>=2.5.2 in /home/anudeep/miniconda3/envs/genai/lib/python3.11/site-packages (from langchain-core<0.4.0,>=0.3.28->langchain_experimental) (2.11.3)\n",
      "Requirement already satisfied: aiohappyeyeballs>=2.3.0 in /home/anudeep/miniconda3/envs/genai/lib/python3.11/site-packages (from aiohttp<4.0.0,>=3.8.3->langchain-community<0.4.0,>=0.3.0->langchain_experimental) (2.6.1)\n",
      "Requirement already satisfied: aiosignal>=1.1.2 in /home/anudeep/miniconda3/envs/genai/lib/python3.11/site-packages (from aiohttp<4.0.0,>=3.8.3->langchain-community<0.4.0,>=0.3.0->langchain_experimental) (1.3.2)\n",
      "Requirement already satisfied: attrs>=17.3.0 in /home/anudeep/miniconda3/envs/genai/lib/python3.11/site-packages (from aiohttp<4.0.0,>=3.8.3->langchain-community<0.4.0,>=0.3.0->langchain_experimental) (25.3.0)\n",
      "Requirement already satisfied: frozenlist>=1.1.1 in /home/anudeep/miniconda3/envs/genai/lib/python3.11/site-packages (from aiohttp<4.0.0,>=3.8.3->langchain-community<0.4.0,>=0.3.0->langchain_experimental) (1.5.0)\n",
      "Requirement already satisfied: multidict<7.0,>=4.5 in /home/anudeep/miniconda3/envs/genai/lib/python3.11/site-packages (from aiohttp<4.0.0,>=3.8.3->langchain-community<0.4.0,>=0.3.0->langchain_experimental) (6.4.2)\n",
      "Requirement already satisfied: propcache>=0.2.0 in /home/anudeep/miniconda3/envs/genai/lib/python3.11/site-packages (from aiohttp<4.0.0,>=3.8.3->langchain-community<0.4.0,>=0.3.0->langchain_experimental) (0.3.1)\n",
      "Requirement already satisfied: yarl<2.0,>=1.17.0 in /home/anudeep/miniconda3/envs/genai/lib/python3.11/site-packages (from aiohttp<4.0.0,>=3.8.3->langchain-community<0.4.0,>=0.3.0->langchain_experimental) (1.19.0)\n",
      "Requirement already satisfied: marshmallow<4.0.0,>=3.18.0 in /home/anudeep/miniconda3/envs/genai/lib/python3.11/site-packages (from dataclasses-json<0.7,>=0.5.7->langchain-community<0.4.0,>=0.3.0->langchain_experimental) (3.26.1)\n",
      "Requirement already satisfied: typing-inspect<1,>=0.4.0 in /home/anudeep/miniconda3/envs/genai/lib/python3.11/site-packages (from dataclasses-json<0.7,>=0.5.7->langchain-community<0.4.0,>=0.3.0->langchain_experimental) (0.9.0)\n",
      "Requirement already satisfied: jsonpointer>=1.9 in /home/anudeep/miniconda3/envs/genai/lib/python3.11/site-packages (from jsonpatch<2.0,>=1.33->langchain-core<0.4.0,>=0.3.28->langchain_experimental) (3.0.0)\n",
      "Requirement already satisfied: langchain-text-splitters<1.0.0,>=0.3.8 in /home/anudeep/miniconda3/envs/genai/lib/python3.11/site-packages (from langchain<1.0.0,>=0.3.23->langchain-community<0.4.0,>=0.3.0->langchain_experimental) (0.3.8)\n",
      "Requirement already satisfied: httpx<1,>=0.23.0 in /home/anudeep/miniconda3/envs/genai/lib/python3.11/site-packages (from langsmith<0.4,>=0.1.125->langchain-community<0.4.0,>=0.3.0->langchain_experimental) (0.28.1)\n",
      "Requirement already satisfied: orjson<4.0.0,>=3.9.14 in /home/anudeep/miniconda3/envs/genai/lib/python3.11/site-packages (from langsmith<0.4,>=0.1.125->langchain-community<0.4.0,>=0.3.0->langchain_experimental) (3.10.16)\n",
      "Requirement already satisfied: requests-toolbelt<2.0.0,>=1.0.0 in /home/anudeep/miniconda3/envs/genai/lib/python3.11/site-packages (from langsmith<0.4,>=0.1.125->langchain-community<0.4.0,>=0.3.0->langchain_experimental) (1.0.0)\n",
      "Requirement already satisfied: zstandard<0.24.0,>=0.23.0 in /home/anudeep/miniconda3/envs/genai/lib/python3.11/site-packages (from langsmith<0.4,>=0.1.125->langchain-community<0.4.0,>=0.3.0->langchain_experimental) (0.23.0)\n",
      "Requirement already satisfied: annotated-types>=0.6.0 in /home/anudeep/miniconda3/envs/genai/lib/python3.11/site-packages (from pydantic<3.0.0,>=2.5.2->langchain-core<0.4.0,>=0.3.28->langchain_experimental) (0.7.0)\n",
      "Requirement already satisfied: pydantic-core==2.33.1 in /home/anudeep/miniconda3/envs/genai/lib/python3.11/site-packages (from pydantic<3.0.0,>=2.5.2->langchain-core<0.4.0,>=0.3.28->langchain_experimental) (2.33.1)\n",
      "Requirement already satisfied: typing-inspection>=0.4.0 in /home/anudeep/miniconda3/envs/genai/lib/python3.11/site-packages (from pydantic<3.0.0,>=2.5.2->langchain-core<0.4.0,>=0.3.28->langchain_experimental) (0.4.0)\n",
      "Requirement already satisfied: python-dotenv>=0.21.0 in /home/anudeep/miniconda3/envs/genai/lib/python3.11/site-packages (from pydantic-settings<3.0.0,>=2.4.0->langchain-community<0.4.0,>=0.3.0->langchain_experimental) (1.1.0)\n",
      "Requirement already satisfied: charset-normalizer<4,>=2 in /home/anudeep/miniconda3/envs/genai/lib/python3.11/site-packages (from requests<3,>=2->langchain-community<0.4.0,>=0.3.0->langchain_experimental) (3.4.1)\n",
      "Requirement already satisfied: idna<4,>=2.5 in /home/anudeep/miniconda3/envs/genai/lib/python3.11/site-packages (from requests<3,>=2->langchain-community<0.4.0,>=0.3.0->langchain_experimental) (3.10)\n",
      "Requirement already satisfied: urllib3<3,>=1.21.1 in /home/anudeep/miniconda3/envs/genai/lib/python3.11/site-packages (from requests<3,>=2->langchain-community<0.4.0,>=0.3.0->langchain_experimental) (2.3.0)\n",
      "Requirement already satisfied: certifi>=2017.4.17 in /home/anudeep/miniconda3/envs/genai/lib/python3.11/site-packages (from requests<3,>=2->langchain-community<0.4.0,>=0.3.0->langchain_experimental) (2025.1.31)\n",
      "Requirement already satisfied: greenlet!=0.4.17 in /home/anudeep/miniconda3/envs/genai/lib/python3.11/site-packages (from SQLAlchemy<3,>=1.4->langchain-community<0.4.0,>=0.3.0->langchain_experimental) (3.1.1)\n",
      "Requirement already satisfied: anyio in /home/anudeep/miniconda3/envs/genai/lib/python3.11/site-packages (from httpx<1,>=0.23.0->langsmith<0.4,>=0.1.125->langchain-community<0.4.0,>=0.3.0->langchain_experimental) (4.9.0)\n",
      "Requirement already satisfied: httpcore==1.* in /home/anudeep/miniconda3/envs/genai/lib/python3.11/site-packages (from httpx<1,>=0.23.0->langsmith<0.4,>=0.1.125->langchain-community<0.4.0,>=0.3.0->langchain_experimental) (1.0.7)\n",
      "Requirement already satisfied: h11<0.15,>=0.13 in /home/anudeep/miniconda3/envs/genai/lib/python3.11/site-packages (from httpcore==1.*->httpx<1,>=0.23.0->langsmith<0.4,>=0.1.125->langchain-community<0.4.0,>=0.3.0->langchain_experimental) (0.14.0)\n",
      "Requirement already satisfied: mypy-extensions>=0.3.0 in /home/anudeep/miniconda3/envs/genai/lib/python3.11/site-packages (from typing-inspect<1,>=0.4.0->dataclasses-json<0.7,>=0.5.7->langchain-community<0.4.0,>=0.3.0->langchain_experimental) (1.0.0)\n",
      "Requirement already satisfied: sniffio>=1.1 in /home/anudeep/miniconda3/envs/genai/lib/python3.11/site-packages (from anyio->httpx<1,>=0.23.0->langsmith<0.4,>=0.1.125->langchain-community<0.4.0,>=0.3.0->langchain_experimental) (1.3.1)\n"
     ]
    }
   ],
   "source": [
    "! pip install langchain_experimental"
   ]
  },
  {
   "cell_type": "code",
   "execution_count": 6,
   "metadata": {},
   "outputs": [
    {
     "name": "stdout",
     "output_type": "stream",
     "text": [
      "Requirement already satisfied: tabulate in /home/anudeep/miniconda3/envs/genai/lib/python3.11/site-packages (0.9.0)\n"
     ]
    }
   ],
   "source": [
    "from langchain_experimental.agents import create_csv_agent\n",
    "from langchain.llms import OpenAI\n",
    "! pip install tabulate\n"
   ]
  },
  {
   "cell_type": "code",
   "execution_count": 9,
   "metadata": {},
   "outputs": [
    {
     "name": "stderr",
     "output_type": "stream",
     "text": [
      "/tmp/ipykernel_1357344/3798045111.py:26: LangChainDeprecationWarning: The method `Chain.run` was deprecated in langchain 0.1.0 and will be removed in 1.0. Use :meth:`~invoke` instead.\n",
      "  response = agent.run(\"Summarize the data\")\n"
     ]
    },
    {
     "name": "stdout",
     "output_type": "stream",
     "text": [
      "\n",
      "\n",
      "\u001b[1m> Entering new AgentExecutor chain...\u001b[0m\n",
      "\u001b[32;1m\u001b[1;3mThe dataframe `df` contains medical consultation records with the following columns:\n",
      "\n",
      "1. **Unnamed: 0**: An index column.\n",
      "2. **description**: A brief description of the patient's condition or the purpose of the consultation.\n",
      "3. **medical_specialty**: The medical specialty relevant to the consultation (e.g., Allergy / Immunology, Bariatrics, Cardiovascular / Pulmonary).\n",
      "4. **sample_name**: A title or identifier for the specific consultation record.\n",
      "5. **transcription**: A detailed transcription of the patient's medical history, examination findings, assessments, and plans.\n",
      "6. **keywords**: A list of keywords associated with the consultation, summarizing key topics and conditions mentioned in the transcription.\n",
      "\n",
      "### Summary of the Data:\n",
      "- The dataset includes various medical specialties, primarily focusing on conditions related to allergies, bariatric surgery, and cardiovascular health.\n",
      "- Each record provides a comprehensive overview of the patient's medical history, current health issues, and treatment plans.\n",
      "- Keywords help in identifying the main topics discussed in each consultation, such as specific medical conditions (e.g., allergic rhinitis, obesity) and treatments (e.g., medications, surgical procedures).\n",
      "\n",
      "### Example Records:\n",
      "1. **Allergy / Immunology**: A 23-year-old female with allergies and asthma, discussing treatment options for allergic rhinitis.\n",
      "2. **Bariatrics**: A consultation for laparoscopic gastric bypass, detailing the patient's weight history, medical conditions, and lifestyle factors.\n",
      "3. **Cardiovascular / Pulmonary**: Echocardiogram results indicating various heart conditions, including left atrial enlargement and valve issues.\n",
      "\n",
      "Overall, the dataframe captures detailed medical consultations, providing insights into patient care and treatment strategies across different specialties.\u001b[0m\n",
      "\n",
      "\u001b[1m> Finished chain.\u001b[0m\n",
      "The dataframe `df` contains medical consultation records with the following columns:\n",
      "\n",
      "1. **Unnamed: 0**: An index column.\n",
      "2. **description**: A brief description of the patient's condition or the purpose of the consultation.\n",
      "3. **medical_specialty**: The medical specialty relevant to the consultation (e.g., Allergy / Immunology, Bariatrics, Cardiovascular / Pulmonary).\n",
      "4. **sample_name**: A title or identifier for the specific consultation record.\n",
      "5. **transcription**: A detailed transcription of the patient's medical history, examination findings, assessments, and plans.\n",
      "6. **keywords**: A list of keywords associated with the consultation, summarizing key topics and conditions mentioned in the transcription.\n",
      "\n",
      "### Summary of the Data:\n",
      "- The dataset includes various medical specialties, primarily focusing on conditions related to allergies, bariatric surgery, and cardiovascular health.\n",
      "- Each record provides a comprehensive overview of the patient's medical history, current health issues, and treatment plans.\n",
      "- Keywords help in identifying the main topics discussed in each consultation, such as specific medical conditions (e.g., allergic rhinitis, obesity) and treatments (e.g., medications, surgical procedures).\n",
      "\n",
      "### Example Records:\n",
      "1. **Allergy / Immunology**: A 23-year-old female with allergies and asthma, discussing treatment options for allergic rhinitis.\n",
      "2. **Bariatrics**: A consultation for laparoscopic gastric bypass, detailing the patient's weight history, medical conditions, and lifestyle factors.\n",
      "3. **Cardiovascular / Pulmonary**: Echocardiogram results indicating various heart conditions, including left atrial enlargement and valve issues.\n",
      "\n",
      "Overall, the dataframe captures detailed medical consultations, providing insights into patient care and treatment strategies across different specialties.\n"
     ]
    }
   ],
   "source": [
    "from langchain_experimental.agents import create_csv_agent\n",
    "from langchain.chat_models import ChatOpenAI\n",
    "from langchain.agents import AgentType \n",
    "import os\n",
    "from dotenv import load_dotenv\n",
    "\n",
    "# Load the .env file\n",
    "load_dotenv()\n",
    "\n",
    "# Get the key from env\n",
    "api_key = os.getenv(\"OPENAI_KEY\")\n",
    "\n",
    "# Initialize LLM\n",
    "llm = ChatOpenAI(temperature=0, model=\"gpt-4o-mini\", openai_api_key=api_key)\n",
    "\n",
    "# Create the agent\n",
    "agent = create_csv_agent(\n",
    "    llm=llm,\n",
    "    path=\"/home/anudeep/Desktop/gen ai/document/mtsamples.csv\",  \n",
    "    verbose=True,\n",
    "    agent_type=AgentType.OPENAI_FUNCTIONS,\n",
    "    allow_dangerous_code=True\n",
    ")\n",
    "\n",
    "# Test the agent\n",
    "response = agent.run(\"Summarize the data\")\n",
    "print(response)\n"
   ]
  },
  {
   "cell_type": "code",
   "execution_count": 10,
   "metadata": {},
   "outputs": [
    {
     "name": "stdout",
     "output_type": "stream",
     "text": [
      "\n",
      "\n",
      "\u001b[1m> Entering new AgentExecutor chain...\u001b[0m\n",
      "\u001b[32;1m\u001b[1;3m\n",
      "Invoking: `python_repl_ast` with `{'query': \"df['medical_specialty'].nunique()\"}`\n",
      "\n",
      "\n",
      "\u001b[0m\u001b[36;1m\u001b[1;3m40\u001b[0m\u001b[32;1m\u001b[1;3mThere are 40 unique medical specialties in the dataframe.\u001b[0m\n",
      "\n",
      "\u001b[1m> Finished chain.\u001b[0m\n"
     ]
    },
    {
     "data": {
      "text/plain": [
       "'There are 40 unique medical specialties in the dataframe.'"
      ]
     },
     "execution_count": 10,
     "metadata": {},
     "output_type": "execute_result"
    }
   ],
   "source": [
    "agent.run(\"how many medical specialty has the uniqueness \")"
   ]
  },
  {
   "cell_type": "code",
   "execution_count": 11,
   "metadata": {},
   "outputs": [
    {
     "data": {
      "text/plain": [
       "40"
      ]
     },
     "execution_count": 11,
     "metadata": {},
     "output_type": "execute_result"
    }
   ],
   "source": [
    "df['medical_specialty'].nunique()"
   ]
  },
  {
   "cell_type": "code",
   "execution_count": 12,
   "metadata": {},
   "outputs": [
    {
     "name": "stderr",
     "output_type": "stream",
     "text": [
      "/home/anudeep/miniconda3/envs/genai/lib/python3.11/site-packages/tqdm/auto.py:21: TqdmWarning: IProgress not found. Please update jupyter and ipywidgets. See https://ipywidgets.readthedocs.io/en/stable/user_install.html\n",
      "  from .autonotebook import tqdm as notebook_tqdm\n"
     ]
    }
   ],
   "source": [
    "# For second dataset  \n",
    "from datasets import load_dataset\n",
    "\n",
    "# Load the dataset\n",
    "dataset = load_dataset(\"rungalileo/medical_transcription_40\")\n"
   ]
  },
  {
   "cell_type": "code",
   "execution_count": 13,
   "metadata": {},
   "outputs": [],
   "source": [
    "# Set the format to pandas DataFrame\n",
    "dataset.set_format(type='pandas')\n",
    "\n",
    "# Convert the training data to a pandas DataFrame\n",
    "train_df = dataset['train'][:]\n",
    "\n",
    "# Save the DataFrame to a CSV file\n",
    "train_df.to_csv(\"medical_transcription_train.csv\", index=False)\n",
    "\n",
    "# Reset the dataset format\n",
    "dataset.reset_format()\n"
   ]
  },
  {
   "cell_type": "code",
   "execution_count": 15,
   "metadata": {},
   "outputs": [
    {
     "name": "stdout",
     "output_type": "stream",
     "text": [
      "\n",
      "\n",
      "\u001b[1m> Entering new AgentExecutor chain...\u001b[0m\n",
      "\u001b[32;1m\u001b[1;3m\n",
      "Invoking: `python_repl_ast` with `{'query': \"df.describe(include='all')\"}`\n",
      "\n",
      "\n",
      "\u001b[0m\u001b[36;1m\u001b[1;3m                 id                                               text  \\\n",
      "count   4499.000000                                               4470   \n",
      "unique          NaN                                               3966   \n",
      "top             NaN  REASON FOR CONSULTATION: , Thyroid mass diagno...   \n",
      "freq            NaN                                                  4   \n",
      "mean    2489.084019                                                NaN   \n",
      "std     1445.637607                                                NaN   \n",
      "min        0.000000                                                NaN   \n",
      "25%     1238.500000                                                NaN   \n",
      "50%     2489.000000                                                NaN   \n",
      "75%     3740.500000                                                NaN   \n",
      "max     4998.000000                                                NaN   \n",
      "\n",
      "              label  \n",
      "count   4499.000000  \n",
      "unique          NaN  \n",
      "top             NaN  \n",
      "freq            NaN  \n",
      "mean      21.504334  \n",
      "std       10.329204  \n",
      "min        0.000000  \n",
      "25%       13.000000  \n",
      "50%       25.000000  \n",
      "75%       29.000000  \n",
      "max       39.000000  \u001b[0m\u001b[32;1m\u001b[1;3mThe dataset contains 4,499 entries with the following key characteristics:\n",
      "\n",
      "1. **ID**:\n",
      "   - The `id` column ranges from 0 to 4998.\n",
      "   - The mean ID is approximately 2489, with a standard deviation of about 1445.\n",
      "   - The IDs are unique, with a total of 4,499 unique values.\n",
      "\n",
      "2. **Text**:\n",
      "   - The `text` column contains 4,470 entries, with a total of 3,966 unique texts.\n",
      "   - The most frequently occurring text (top) appears 4 times, indicating some repetition in the dataset.\n",
      "\n",
      "3. **Label**:\n",
      "   - The `label` column has 4,499 entries, with a mean value of approximately 21.5 and a standard deviation of about 10.3.\n",
      "   - The labels range from a minimum of 0 to a maximum of 39.\n",
      "   - The 25th percentile of labels is 13, the 50th percentile (median) is 25, and the 75th percentile is 29.\n",
      "\n",
      "Overall, the dataset appears to be a collection of medical texts with associated labels, likely indicating some classification or categorization of the text content.\u001b[0m\n",
      "\n",
      "\u001b[1m> Finished chain.\u001b[0m\n",
      "The dataset contains 4,499 entries with the following key characteristics:\n",
      "\n",
      "1. **ID**:\n",
      "   - The `id` column ranges from 0 to 4998.\n",
      "   - The mean ID is approximately 2489, with a standard deviation of about 1445.\n",
      "   - The IDs are unique, with a total of 4,499 unique values.\n",
      "\n",
      "2. **Text**:\n",
      "   - The `text` column contains 4,470 entries, with a total of 3,966 unique texts.\n",
      "   - The most frequently occurring text (top) appears 4 times, indicating some repetition in the dataset.\n",
      "\n",
      "3. **Label**:\n",
      "   - The `label` column has 4,499 entries, with a mean value of approximately 21.5 and a standard deviation of about 10.3.\n",
      "   - The labels range from a minimum of 0 to a maximum of 39.\n",
      "   - The 25th percentile of labels is 13, the 50th percentile (median) is 25, and the 75th percentile is 29.\n",
      "\n",
      "Overall, the dataset appears to be a collection of medical texts with associated labels, likely indicating some classification or categorization of the text content.\n"
     ]
    }
   ],
   "source": [
    "from langchain_experimental.agents import create_csv_agent\n",
    "from langchain.chat_models import ChatOpenAI\n",
    "from langchain.agents import AgentType  \n",
    "\n",
    "# Initialize LLM\n",
    "llm = ChatOpenAI(temperature=0, model=\"gpt-4o-mini\", openai_api_key=api_key)\n",
    "\n",
    "# Create the agent\n",
    "agent = create_csv_agent(\n",
    "    llm=llm,\n",
    "    path=\"medical_transcription_train.csv\",  \n",
    "    verbose=True,\n",
    "    agent_type=AgentType.OPENAI_FUNCTIONS,\n",
    "    allow_dangerous_code=True\n",
    ")\n",
    "\n",
    "# Test the agent\n",
    "response = agent.run(\"Summarize the data\")\n",
    "print(response)"
   ]
  },
  {
   "cell_type": "code",
   "execution_count": 16,
   "metadata": {},
   "outputs": [
    {
     "name": "stdout",
     "output_type": "stream",
     "text": [
      "The dataset contains 4,499 entries with the following key characteristics:\n",
      "\n",
      "1. **ID**:\n",
      "   - The `id` column ranges from 0 to 4998.\n",
      "   - The mean ID is approximately 2489, with a standard deviation of about 1445.\n",
      "   - The IDs are unique, with a total of 4,499 unique values.\n",
      "\n",
      "2. **Text**:\n",
      "   - The `text` column contains 4,470 entries, with a total of 3,966 unique texts.\n",
      "   - The most frequently occurring text (top) appears 4 times, indicating some repetition in the dataset.\n",
      "\n",
      "3. **Label**:\n",
      "   - The `label` column has 4,499 entries, with a mean value of approximately 21.5 and a standard deviation of about 10.3.\n",
      "   - The labels range from a minimum of 0 to a maximum of 39.\n",
      "   - The 25th percentile of labels is 13, the 50th percentile (median) is 25, and the 75th percentile is 29.\n",
      "\n",
      "Overall, the dataset appears to be a collection of medical texts with associated labels, likely indicating some classification or categorization of the text content.\n"
     ]
    }
   ],
   "source": [
    "print(response)"
   ]
  },
  {
   "cell_type": "code",
   "execution_count": null,
   "metadata": {},
   "outputs": [],
   "source": []
  }
 ],
 "metadata": {
  "kernelspec": {
   "display_name": "genai",
   "language": "python",
   "name": "python3"
  },
  "language_info": {
   "codemirror_mode": {
    "name": "ipython",
    "version": 3
   },
   "file_extension": ".py",
   "mimetype": "text/x-python",
   "name": "python",
   "nbconvert_exporter": "python",
   "pygments_lexer": "ipython3",
   "version": "3.11.11"
  }
 },
 "nbformat": 4,
 "nbformat_minor": 2
}
